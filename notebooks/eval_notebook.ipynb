{
 "cells": [
  {
   "cell_type": "code",
   "execution_count": 1,
   "metadata": {},
   "outputs": [],
   "source": [
    "import numpy as np\n",
    "from sklearn.metrics import f1_score, precision_score, recall_score"
   ]
  },
  {
   "cell_type": "code",
   "execution_count": 2,
   "metadata": {},
   "outputs": [],
   "source": [
    "# O: I have lost my card 5199807081286740 and blocked by c4c4:9bac:38a3:886:f173:826c:d16d:e730 can't submit a replacement request. My name is Maisie Griffiths.\n",
    "# G: I have lost my card xxxxxxxxxxxxxxxx and blocked by xxxxxxxxxxxxxxxxxxxxxxxxxxxxxxxxxxxxxx can't submit a replacement request. My name is xxxxxxxxxxxxxxxx.\n",
    "# P: I have lost my card 51998070xxxxxxxxxxxxxxxxxxxxxxxxxxxxxxxxxxxxxxxxxxxxxxxx826c:d16d:e730 can't submit a replacement request. My name is Maisie xxxxxxxxx.\n",
    "\n",
    "\n",
    "# settings\n",
    "origin_text = (\n",
    "    \"I have lost my card 5199807081286740 and blocked \"\n",
    "    \"by c4c4:9bac:38a3:886:f173:826c:d16d:e730 can't \"\n",
    "    \"submit a replacement request. My name is Maisie Griffiths.\"\n",
    ")\n",
    "\n",
    "true_spans = [\n",
    "    {\"text\": \"5199807081286740\",                       \"start\": 20,  \"end\": 36,  \"type\": \"credit_card\"},\n",
    "    {\"text\": \"c4c4:9bac:38a3:886:f173:826c:d16d:e730\", \"start\": 52,  \"end\":90,   \"type\": \"ip_address\"},\n",
    "    {\"text\": \"Maisie Griffiths\",                       \"start\": 138, \"end\": 154, \"type\": \"person\"}\n",
    "]\n",
    "\n",
    "pred_spans = [\n",
    "    {\"text\": \"81286740 and blocked by c4c4:9bac:38a3:886:f173:\", \"start\": 28,  \"end\": 76,  \"type\": \"ip_address\"},\n",
    "    {\"text\": \"Griffiths\",                                        \"start\": 145, \"end\": 154, \"type\": \"person\"}\n",
    "]\n"
   ]
  },
  {
   "cell_type": "markdown",
   "metadata": {},
   "source": [
    "# Micro/Global-based\n",
    "\n",
    "If we want to evaluate a system's performance in perspective of PII versus non-PII, this is a method we can adopt. It's simple."
   ]
  },
  {
   "cell_type": "code",
   "execution_count": 3,
   "metadata": {},
   "outputs": [],
   "source": [
    "def build_binary(text_length, spans):\n",
    "    \"\"\"Binary represenatation for text. \n",
    "    Spans are labeled with 1 and non-spans are label with 0.\"\"\"\n",
    "    array = [0] * text_length\n",
    "\n",
    "    for span in spans:\n",
    "        s = span[\"start\"]\n",
    "        e = span[\"end\"]\n",
    "        array[s:e] = [1] * (e - s)\n",
    "\n",
    "    return array"
   ]
  },
  {
   "cell_type": "code",
   "execution_count": 4,
   "metadata": {},
   "outputs": [],
   "source": [
    "# xxxx --> 1\n",
    "# everything else --> 0\n",
    "\n",
    "# G: I have lost my card xxxxxxxxxxxxxxxx and blocked by xxxxxxxxxxxxxxxxxxxxxxxxxxxxxxxxxxxxxx can't submit a replacement request. My name is xxxxxxxxxxxxxxxx.\n",
    "# P: I have lost my card 51998070xxxxxxxxxxxxxxxxxxxxxxxxxxxxxxxxxxxxxxxxxxxxxxxx826c:d16d:e730 can't submit a replacement request. My name is Maisie xxxxxxxxx."
   ]
  },
  {
   "cell_type": "markdown",
   "metadata": {},
   "source": [
    "Calculate character level precision:\n",
    "<br>\n",
    "$\n",
    "\\begin{align}\n",
    "precision &= \\frac{tp}{tp + fp}\\\\\n",
    "&= \\frac{len(\\text{\"81286740\"} + \\text{\"c4c4:9bac:38a3:886:f173:\"} + \\text{\"Griffiths\"})}{len(\\text{\"81286740\"} + \\text{\"c4c4:9bac:38a3:886:f173:\"} + \\text{\"Griffiths\"}) + len(\\text{\" and blocked by \"})}\n",
    "\\end{align}\n",
    "$\n",
    "\n",
    "Calculate character level recall:\n",
    "<br>\n",
    "$\n",
    "\\begin{align}\n",
    "recall &= \\frac{tp}{tp + fn}\\\\\n",
    "&= \\frac{len(\\text{\"81286740\"} + \\text{\"c4c4:9bac:38a3:886:f173:\"} + \\text{\"Griffiths\"})}{len(\\text{\"81286740\"} + \\text{\"c4c4:9bac:38a3:886:f173:\"} + \\text{\"Griffiths\"}) + len(\\text{\"51998070\"} + \\text{\"826c:d16d:e730\"} + \\text{\"Maisie \"})}\n",
    "\\end{align}\n",
    "$"
   ]
  },
  {
   "cell_type": "code",
   "execution_count": 5,
   "metadata": {},
   "outputs": [
    {
     "data": {
      "text/plain": [
       "'precision: 0.7193, recall: 0.5857, f1: 0.6457'"
      ]
     },
     "execution_count": 5,
     "metadata": {},
     "output_type": "execute_result"
    }
   ],
   "source": [
    "def calculate_micro_scores(text, true_spans, pred_spans):\n",
    "    text_length = len(text)\n",
    "    true_binary = build_binary(text_length, true_spans)\n",
    "    pred_binary = build_binary(text_length, pred_spans)\n",
    "    \n",
    "    precision = precision_score(true_binary, pred_binary)\n",
    "    recall = recall_score(true_binary, pred_binary)\n",
    "    f1 = f1_score(true_binary, pred_binary)\n",
    "    \n",
    "    return precision, recall, f1\n",
    "\n",
    "precision, recall, f1 = calculate_micro_scores(origin_text, true_spans, pred_spans)\n",
    "f\"precision: {precision:.4f}, recall: {recall:.4f}, f1: {f1:.4f}\""
   ]
  },
  {
   "cell_type": "markdown",
   "metadata": {},
   "source": [
    "## Problem with the micro method"
   ]
  },
  {
   "cell_type": "code",
   "execution_count": 6,
   "metadata": {},
   "outputs": [],
   "source": [
    "text_p = \"My name is Gabe and this is my email very_long_email_gabechu@gmail.com.\"\n",
    "\n",
    "true_spans_p = [\n",
    "    {\"text\": \"Gabe\",              \"start\": 11,   \"end\": 15,  \"type\": \"person\"},\n",
    "    {\"text\": \"gabechu@gmail.com\", \"start\": 37,   \"end\":70,   \"type\": \"email\"},\n",
    "]\n",
    "\n",
    "pred_spans_p = [\n",
    "    {\"text\": \"gabechu@gmail.com\", \"start\": 37,  \"end\":70,   \"type\": \"email\"},\n",
    "]"
   ]
  },
  {
   "cell_type": "code",
   "execution_count": 7,
   "metadata": {},
   "outputs": [
    {
     "data": {
      "text/plain": [
       "'precision: 1.0000, recall: 0.8919, f1: 0.9429'"
      ]
     },
     "execution_count": 7,
     "metadata": {},
     "output_type": "execute_result"
    }
   ],
   "source": [
    "precision, recall, f1 = calculate_micro_scores(text_p, true_spans_p, pred_spans_p)\n",
    "f\"precision: {precision:.4f}, recall: {recall:.4f}, f1: {f1:.4f}\""
   ]
  },
  {
   "cell_type": "markdown",
   "metadata": {},
   "source": [
    "# Macro/Entity-based\n",
    "To fix the underestimating and overestimating issues of the micro method, we propose a macro approach that iteratively calculates scores for each entity.\n",
    "\n",
    "## Boundary detection"
   ]
  },
  {
   "cell_type": "code",
   "execution_count": 8,
   "metadata": {},
   "outputs": [],
   "source": [
    "# O: I have lost my card 5199807081286740 and blocked by c4c4:9bac:38a3:886:f173:826c:d16d:e730 can't submit a replacement request. My name is Maisie Griffiths.\n",
    "\n",
    "# Entity: 81286740 and blocked by c4c4:9bac:38a3:886:f173:\n",
    "# G: I have lost my card xxxxxxxxxxxxxxxx and blocked by xxxxxxxxxxxxxxxxxxxxxxxxxxxxxxxxxxxxxx can't submit a replacement request. My name is xxxxxxxxxxxxxxxx.\n",
    "# P: I have lost my card 51998070xxxxxxxxxxxxxxxxxxxxxxxxxxxxxxxxxxxxxxxxxxxxxxxx826c:d16d:e730 can't submit a replacement request. My name is Maisie Griffiths.\n",
    "\n",
    "# Entity: Griffiths\n",
    "# G: I have lost my card xxxxxxxxxxxxxxxx and blocked by xxxxxxxxxxxxxxxxxxxxxxxxxxxxxxxxxxxxxx can't submit a replacement request. My name is xxxxxxxxxxxxxxxx.\n",
    "# P: I have lost my card 5199807081286740 and blocked by c4c4:9bac:38a3:886:f173:826c:d16d:e730 can't submit a replacement request. My name is Maisie xxxxxxxxx."
   ]
  },
  {
   "cell_type": "code",
   "execution_count": 9,
   "metadata": {},
   "outputs": [],
   "source": [
    "def calculate_ave_boundary_precision(text, true_spans, pred_spans):\n",
    "    text_length = len(text)\n",
    "    true_binary = build_binary(text_length, true_spans)\n",
    "    \n",
    "    boundary_precisions = []\n",
    "    for pred_span in pred_spans:\n",
    "        pred_span_binary = build_binary(text_length, [pred_span])\n",
    "        precision = precision_score(true_binary, pred_span_binary)\n",
    "        boundary_precisions.append(precision)\n",
    "    return boundary_precisions\n",
    "\n",
    "boundary_precisions = calculate_ave_boundary_precision(origin_text, true_spans, pred_spans)\n",
    "ave_boundary_precision = sum(boundary_precisions) / len(boundary_precisions)"
   ]
  },
  {
   "cell_type": "code",
   "execution_count": 10,
   "metadata": {},
   "outputs": [],
   "source": [
    "# O: I have lost my card 5199807081286740 and blocked by c4c4:9bac:38a3:886:f173:826c:d16d:e730 can't submit a replacement request. My name is Maisie Griffiths.\n",
    "\n",
    "# Entity: 5199807081286740\n",
    "# G: I have lost my card xxxxxxxxxxxxxxxx and blocked by c4c4:9bac:38a3:886:f173:826c:d16d:e730 can't submit a replacement request. My name is Maisie Griffiths.\n",
    "# P: I have lost my card 51998070xxxxxxxxxxxxxxxxxxxxxxxxxxxxxxxxxxxxxxxxxxxxxxxx826c:d16d:e730 can't submit a replacement request. My name is Maisie xxxxxxxxx.\n",
    "\n",
    "# Entity: c4c4:9bac:38a3:886:f173:826c:d16d:e730\n",
    "# G: I have lost my card 5199807081286740 and blocked by xxxxxxxxxxxxxxxxxxxxxxxxxxxxxxxxxxxxxx can't submit a replacement request. My name is Maisie Griffiths.\n",
    "# P: I have lost my card 51998070xxxxxxxxxxxxxxxxxxxxxxxxxxxxxxxxxxxxxxxxxxxxxxxx826c:d16d:e730 can't submit a replacement request. My name is Maisie xxxxxxxxx.\n",
    "\n",
    "# Entity: Maisie Griffiths\n",
    "# G: I have lost my card 5199807081286740 and blocked by c4c4:9bac:38a3:886:f173:826c:d16d:e730 can't submit a replacement request. My name is xxxxxxxxxxxxxxxx.\n",
    "# P: I have lost my card 51998070xxxxxxxxxxxxxxxxxxxxxxxxxxxxxxxxxxxxxxxxxxxxxxxx826c:d16d:e730 can't submit a replacement request. My name is Maisie xxxxxxxxx."
   ]
  },
  {
   "cell_type": "code",
   "execution_count": 11,
   "metadata": {},
   "outputs": [],
   "source": [
    "def calculate_ave_boundary_recall(text, true_spans, pred_spans):\n",
    "    text_length = len(text)\n",
    "    pred_binary = build_binary(text_length, pred_spans)\n",
    "\n",
    "    boundary_recalls = []\n",
    "    for true_span in true_spans:\n",
    "        true_span_binary = build_binary(text_length, [true_span])\n",
    "        recall = recall_score(true_span_binary, pred_binary)\n",
    "        boundary_recalls.append(recall)\n",
    "    return boundary_recalls\n",
    "\n",
    "boundary_recalls = calculate_ave_boundary_recall(origin_text, true_spans, pred_spans)\n",
    "ave_boundary_recall = sum(boundary_recalls) / len(boundary_recalls)"
   ]
  },
  {
   "cell_type": "code",
   "execution_count": 12,
   "metadata": {},
   "outputs": [
    {
     "data": {
      "text/plain": [
       "'For boundary detection: ave-precision: 0.8333, ave-recall: 0.5647, f1: 0.6732'"
      ]
     },
     "execution_count": 12,
     "metadata": {},
     "output_type": "execute_result"
    }
   ],
   "source": [
    "boundary_f1 = (2 * ave_boundary_precision * ave_boundary_recall) / (ave_boundary_precision + ave_boundary_recall)\n",
    "\n",
    "f\"For boundary detection: ave-precision: {ave_boundary_precision:.4f}, ave-recall: {ave_boundary_recall:.4f}, f1: {boundary_f1:.4f}\""
   ]
  },
  {
   "cell_type": "markdown",
   "metadata": {},
   "source": [
    "## Type identification"
   ]
  },
  {
   "cell_type": "code",
   "execution_count": 13,
   "metadata": {},
   "outputs": [],
   "source": [
    "# Instead of implementing this in binary, we can code it up in multi-class\n",
    "\n",
    "# 1 --> type credit_card\n",
    "# 2 --> type ip_address\n",
    "# 3 --> type person\n",
    "\n",
    "# O: I have lost my card 5199807081286740 and blocked by c4c4:9bac:38a3:886:f173:826c:d16d:e730 can't submit a replacement request. My name is Maisie Griffiths.\n",
    "# G: I have lost my card 1111111111111111 and blocked by 22222222222222222222222222222222222222 can't submit a replacement request. My name is 3333333333333333.\n",
    "# P: I have lost my card 51998070222222222222222222222222222222222222222222222222826c:d16d:e730 can't submit a replacement request. My name is Maisie 333333333."
   ]
  },
  {
   "cell_type": "code",
   "execution_count": 14,
   "metadata": {},
   "outputs": [],
   "source": [
    "mapping = {\n",
    "    \"credit_card\": 1,\n",
    "    \"ip_address\": 2,\n",
    "    \"person\": 3,\n",
    "}\n",
    "\n",
    "def build_multinomial(text_length, spans, mapping):\n",
    "    array = [0] * text_length\n",
    "    \n",
    "    for span in spans:\n",
    "        s = span[\"start\"]\n",
    "        e = span[\"end\"]\n",
    "        class_name = mapping[span[\"type\"]]\n",
    "        array[s : e] = [class_name] * (e - s)\n",
    "    \n",
    "    return array"
   ]
  },
  {
   "cell_type": "code",
   "execution_count": 15,
   "metadata": {},
   "outputs": [],
   "source": [
    "def calculate_type_precisions(text, true_spans, pred_spans):\n",
    "    text_length = len(text)\n",
    "    true_multi = build_multinomial(text_length, true_spans, mapping)\n",
    "    \n",
    "    type_precisions = []\n",
    "    for pred_span in pred_spans:\n",
    "        pred_span_multi = build_multinomial(text_length, [pred_span], mapping)\n",
    "        span_class = mapping[pred_span[\"type\"]]\n",
    "        # index 0 because the list contains only 1 element\n",
    "        precision = precision_score(true_multi, pred_span_multi, average=None, labels=[span_class])[0]\n",
    "        type_precisions.append(precision)\n",
    "        \n",
    "    return type_precisions\n",
    "\n",
    "type_precisions = calculate_type_precisions(origin_text, true_spans, pred_spans)\n",
    "ave_type_precision = sum(type_precisions) / len(type_precisions)"
   ]
  },
  {
   "cell_type": "code",
   "execution_count": 16,
   "metadata": {},
   "outputs": [],
   "source": [
    "def calculate_type_recalls(text, true_spans, pred_spans):\n",
    "    text_length = len(text)\n",
    "    pred_multi = build_multinomial(text_length, pred_spans, mapping)\n",
    "    \n",
    "    type_recalls = []\n",
    "    for true_span in true_spans:\n",
    "        true_span_multi = build_multinomial(text_length, [true_span], mapping)\n",
    "        span_class = mapping[true_span[\"type\"]]\n",
    "        # index 0 because the list contains only 1 element\n",
    "        recall = recall_score(true_span_multi, pred_multi, average=None, labels=[span_class])[0]\n",
    "        type_recalls.append(recall)\n",
    "    return type_recalls\n",
    "\n",
    "type_recalls = calculate_type_recalls(origin_text, true_spans, pred_spans)\n",
    "ave_type_recall = sum(type_recalls) / len(type_recalls)"
   ]
  },
  {
   "cell_type": "code",
   "execution_count": 17,
   "metadata": {},
   "outputs": [
    {
     "data": {
      "text/plain": [
       "'For type identification: ave-precision: 0.7500, ave-recall: 0.3980, f1: 0.5201'"
      ]
     },
     "execution_count": 17,
     "metadata": {},
     "output_type": "execute_result"
    }
   ],
   "source": [
    "type_f1 = (2 * ave_type_precision * ave_type_recall) / (ave_type_precision + ave_type_recall)\n",
    "\n",
    "f\"For type identification: ave-precision: {ave_type_precision:.4f}, ave-recall: {ave_type_recall:.4f}, f1: {type_f1:.4f}\""
   ]
  },
  {
   "cell_type": "markdown",
   "metadata": {},
   "source": [
    "## Performance of boundary detection and type identification for every entity"
   ]
  },
  {
   "cell_type": "code",
   "execution_count": 18,
   "metadata": {},
   "outputs": [],
   "source": [
    "# precisions\n",
    "boundary_precisions = np.array(boundary_precisions)\n",
    "type_precisions = np.array(type_precisions)\n",
    "\n",
    "entity_precisions = np.multiply(boundary_precisions, type_precisions)"
   ]
  },
  {
   "cell_type": "code",
   "execution_count": 19,
   "metadata": {},
   "outputs": [
    {
     "data": {
      "text/plain": [
       "[{'text': '81286740 and blocked by c4c4:9bac:38a3:886:f173:',\n",
       "  'start': 28,\n",
       "  'end': 76,\n",
       "  'type': 'ip_address',\n",
       "  'precision': 0.3333333333333333},\n",
       " {'text': 'Griffiths',\n",
       "  'start': 145,\n",
       "  'end': 154,\n",
       "  'type': 'person',\n",
       "  'precision': 1.0}]"
      ]
     },
     "execution_count": 19,
     "metadata": {},
     "output_type": "execute_result"
    }
   ],
   "source": [
    "# add precison scores\n",
    "for i, span in enumerate(pred_spans):\n",
    "    span.update({\"precision\": entity_precisions[i]})\n",
    "    \n",
    "pred_spans"
   ]
  },
  {
   "cell_type": "code",
   "execution_count": 20,
   "metadata": {},
   "outputs": [],
   "source": [
    "# recalls\n",
    "boundary_recalls = np.array(boundary_recalls)\n",
    "type_recalls = np.array(type_recalls)\n",
    "\n",
    "entity_recalls = np.multiply(boundary_recalls, type_recalls)"
   ]
  },
  {
   "cell_type": "code",
   "execution_count": 21,
   "metadata": {},
   "outputs": [
    {
     "data": {
      "text/plain": [
       "[{'text': '5199807081286740',\n",
       "  'start': 20,\n",
       "  'end': 36,\n",
       "  'type': 'credit_card',\n",
       "  'recall': 0.0},\n",
       " {'text': 'c4c4:9bac:38a3:886:f173:826c:d16d:e730',\n",
       "  'start': 52,\n",
       "  'end': 90,\n",
       "  'type': 'ip_address',\n",
       "  'recall': 0.39889196675900274},\n",
       " {'text': 'Maisie Griffiths',\n",
       "  'start': 138,\n",
       "  'end': 154,\n",
       "  'type': 'person',\n",
       "  'recall': 0.31640625}]"
      ]
     },
     "execution_count": 21,
     "metadata": {},
     "output_type": "execute_result"
    }
   ],
   "source": [
    "# add recall scores\n",
    "for i, span in enumerate(true_spans):\n",
    "    span.update({\"recall\": entity_recalls[i]})\n",
    "    \n",
    "true_spans"
   ]
  },
  {
   "cell_type": "code",
   "execution_count": 22,
   "metadata": {},
   "outputs": [
    {
     "data": {
      "text/plain": [
       "0.3631199016527797"
      ]
     },
     "execution_count": 22,
     "metadata": {},
     "output_type": "execute_result"
    }
   ],
   "source": [
    "# f1 on ip_address\n",
    "f1_ip_address = (2 * 0.3333 * 0.3988) / (0.3333 + 0.3988)\n",
    "f1_ip_address"
   ]
  },
  {
   "cell_type": "code",
   "execution_count": null,
   "metadata": {},
   "outputs": [],
   "source": []
  }
 ],
 "metadata": {
  "kernelspec": {
   "display_name": "Python 3",
   "language": "python",
   "name": "python3"
  },
  "language_info": {
   "codemirror_mode": {
    "name": "ipython",
    "version": 3
   },
   "file_extension": ".py",
   "mimetype": "text/x-python",
   "name": "python",
   "nbconvert_exporter": "python",
   "pygments_lexer": "ipython3",
   "version": "3.7.6"
  }
 },
 "nbformat": 4,
 "nbformat_minor": 4
}
