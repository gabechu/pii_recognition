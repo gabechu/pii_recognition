{
 "cells": [
  {
   "cell_type": "code",
   "execution_count": 17,
   "metadata": {},
   "outputs": [],
   "source": [
    "from sklearn.metrics import f1_score, precision_score, recall_score\n",
    "import numpy as np"
   ]
  },
  {
   "cell_type": "code",
   "execution_count": 2,
   "metadata": {},
   "outputs": [],
   "source": [
    "# O: I have lost my card 5199807081286740 and blocked by c4c4:9bac:38a3:886:f173:826c:d16d:e730 can't submit a replacement request. My name is Maisie Griffiths.\n",
    "# G: I have lost my card xxxxxxxxxxxxxxxx and blocked by xxxxxxxxxxxxxxxxxxxxxxxxxxxxxxxxxxxxxx can't submit a replacement request. My name is xxxxxxxxxxxxxxxx.\n",
    "# P: I have lost my card 51998070xxxxxxxxxxxxxxxxxxxxxxxxxxxxxxxxxxxxxxxxxxxxxxxx826c:d16d:e730 can't submit a replacement request. My name is Maisie xxxxxxxxx.\n",
    "\n",
    "\n",
    "# settings\n",
    "origin_text = (\n",
    "    \"I have lost my card 5199807081286740 and blocked \"\n",
    "    \"by c4c4:9bac:38a3:886:f173:826c:d16d:e730 can't \"\n",
    "    \"submit a replacement request. My name is Maisie Griffiths.\"\n",
    ")\n",
    "\n",
    "true_spans = [\n",
    "    {\"text\": \"5199807081286740\",                       \"start\": 20,  \"end\": 36,  \"type\": \"credit_card\"},\n",
    "    {\"text\": \"c4c4:9bac:38a3:886:f173:826c:d16d:e730\", \"start\": 52,  \"end\":90,   \"type\": \"ip_address\"},\n",
    "    {\"text\": \"Maisie Griffiths\",                       \"start\": 138, \"end\": 154, \"type\": \"person\"}\n",
    "]\n",
    "\n",
    "pred_spans = [\n",
    "    {\"text\": \"81286740 and blocked by c4c4:9bac:38a3:886:f173:\", \"start\": 28,  \"end\": 76,  \"type\": \"ip_address\"},\n",
    "    {\"text\": \"Griffiths\",                                        \"start\": 145, \"end\": 154, \"type\": \"person\"}\n",
    "]\n"
   ]
  },
  {
   "cell_type": "markdown",
   "metadata": {},
   "source": [
    "# precision\n",
    "overlap_with_correct_type(a_span, spans) / ( overlap_with_correct_type(a_span, spans) + overlap_with_incorrect_type(a_span, spans) )\n",
    "= (36 - 28) / ( (36 - 28) + (76 - 52) )\n",
    "= 8 / ( 8 + 24)\n",
    "= 0.25\n",
    "\n",
    "# recall\n",
    "overlap_with_correct_type(a_span, spans) / ( overlap_with_correct_type(a_span, spans) + non_overlap(a_span) )\n",
    "= (36 - 28) / ( (36 - 28) + (28 - 20) )\n",
    "= 8 / ( 8 + 8 )\n",
    "= 0.5"
   ]
  },
  {
   "cell_type": "markdown",
   "metadata": {},
   "source": [
    "# Global-based"
   ]
  },
  {
   "cell_type": "code",
   "execution_count": 3,
   "metadata": {},
   "outputs": [],
   "source": [
    "def build_binary(text, spans):\n",
    "    \"\"\"Binary represenatation for text. \n",
    "    Spans are labeled with 1 and non-spans are label with 0.\"\"\"\n",
    "    array = [0] * len(text)\n",
    "\n",
    "    for span in spans:\n",
    "        s = span[\"start\"]\n",
    "        e = span[\"end\"]\n",
    "        array[s:e] = [1] * (e - s)\n",
    "\n",
    "    return array"
   ]
  },
  {
   "cell_type": "code",
   "execution_count": 4,
   "metadata": {},
   "outputs": [],
   "source": [
    "true_binary = build_binary(origin_text, true_spans)\n",
    "pred_binary = build_binary(origin_text, pred_spans)"
   ]
  },
  {
   "cell_type": "code",
   "execution_count": 5,
   "metadata": {},
   "outputs": [
    {
     "data": {
      "text/plain": [
       "'precision: 0.7193, recall: 0.5857, f1: 0.6457'"
      ]
     },
     "execution_count": 5,
     "metadata": {},
     "output_type": "execute_result"
    }
   ],
   "source": [
    "precision = precision_score(true_binary, pred_binary)\n",
    "recall = recall_score(true_binary, pred_binary)\n",
    "f1 = f1_score(true_binary, pred_binary)\n",
    "\n",
    "f\"precision: {precision:.4f}, recall: {recall:.4f}, f1: {f1:.4f}\""
   ]
  },
  {
   "cell_type": "markdown",
   "metadata": {},
   "source": [
    "# Entity-based"
   ]
  },
  {
   "cell_type": "markdown",
   "metadata": {},
   "source": [
    "## Boundary detection"
   ]
  },
  {
   "cell_type": "code",
   "execution_count": 6,
   "metadata": {},
   "outputs": [],
   "source": [
    "boundary_precisions = []\n",
    "for pred_span in pred_spans:\n",
    "    pred_span_binary = build_binary(origin_text, [pred_span])\n",
    "    precision = precision_score(true_binary, pred_span_binary)\n",
    "    boundary_precisions.append(precision)\n",
    "\n",
    "\n",
    "ave_boundary_precision = sum(boundary_precisions) / len(boundary_precisions)"
   ]
  },
  {
   "cell_type": "code",
   "execution_count": 7,
   "metadata": {},
   "outputs": [],
   "source": [
    "boundary_recalls = []\n",
    "for true_span in true_spans:\n",
    "    true_span_binary = build_binary(origin_text, [true_span])\n",
    "    recall = recall_score(true_span_binary, pred_binary)\n",
    "    boundary_recalls.append(recall)\n",
    "    \n",
    "ave_boundary_recall = sum(boundary_recalls) / len(boundary_recalls)"
   ]
  },
  {
   "cell_type": "code",
   "execution_count": 8,
   "metadata": {},
   "outputs": [
    {
     "data": {
      "text/plain": [
       "'For boundary detection: ave-precision: 0.8333, ave-recall: 0.5647, f1: 0.6732'"
      ]
     },
     "execution_count": 8,
     "metadata": {},
     "output_type": "execute_result"
    }
   ],
   "source": [
    "boundary_f1 = (2 * ave_boundary_precision * ave_boundary_recall) / (ave_boundary_precision + ave_boundary_recall)\n",
    "\n",
    "f\"For boundary detection: ave-precision: {ave_boundary_precision:.4f}, ave-recall: {ave_boundary_recall:.4f}, f1: {boundary_f1:.4f}\""
   ]
  },
  {
   "cell_type": "markdown",
   "metadata": {},
   "source": [
    "## Type identification"
   ]
  },
  {
   "cell_type": "code",
   "execution_count": 9,
   "metadata": {},
   "outputs": [],
   "source": [
    "# The formula we had was ill defined on false positive, these are the steps to take\n",
    "# for fixing it\n",
    "\n",
    "# span_1 (how we did it before)\n",
    "# O: I have lost my card 5199807081286740 and blocked by c4c4:9bac:38a3:886:f173:826c:d16d:e730 can't submit a replacement request. My name is Maisie Griffiths.\n",
    "# G: I have lost my card xxxxxxxxxxxxxxxx and blocked by xxxxxxxxxxxxxxxxxxxxxxxxxxxxxxxxxxxxxx can't submit a replacement request. My name is xxxxxxxxxxxxxxxx.\n",
    "# P: I have lost my card 51998070xxxxxxxxxxxxxxxxxxxxxxxxxxxxxxxxxxxxxxxxxxxxxxxx826c:d16d:e730 can't submit a replacement request. My name is Maisie Griffiths.\n",
    "\n",
    "# what we'd like to do\n",
    "## when calcualting true positive\n",
    "# G: I have lost my card xxxxxxxxxxxxxxxx and blocked by xxxxxxxxxxxxxxxxxxxxxxxxxxxxxxxxxxxxxx can't submit a replacement request. My name is xxxxxxxxxxxxxxxx.\n",
    "# P: I have lost my card 5199807081286740 and blocked by xxxxxxxxxxxxxxxxxxxxxxxx826c:d16d:e730 can't submit a replacement request. My name is Maisie Griffiths.\n",
    "\n",
    "## when calculating false positive\n",
    "# G: I have lost my card 5199807081286740 and blocked by xxxxxxxxxxxxxxxxxxxxxxxxxxxxxxxxxxxxxx can't submit a replacement request. My name is xxxxxxxxxxxxxxxx.\n",
    "# P: I have lost my card 51998070xxxxxxxxxxxxxxxxxxxxxxxxxxxxxxxxxxxxxxxxxxxxxxxx826c:d16d:e730 can't submit a replacement request. My name is Maisie Griffiths.\n",
    "\n",
    "\n",
    "# That is equvilent to converting the ground truth by removing all types execept type of span_1\n",
    "# G: I have lost my card 5199807081286740 and blocked by xxxxxxxxxxxxxxxxxxxxxxxxxxxxxxxxxxxxxx can't submit a replacement request. My name is Maisie Griffiths.\n",
    "# P: I have lost my card 51998070xxxxxxxxxxxxxxxxxxxxxxxxxxxxxxxxxxxxxxxxxxxxxxxx826c:d16d:e730 can't submit a replacement request. My name is Maisie Griffiths."
   ]
  },
  {
   "cell_type": "code",
   "execution_count": 10,
   "metadata": {},
   "outputs": [],
   "source": [
    "# Instead of implementing the fix in binary, it would be easy to code it up with multi-class\n",
    "\n",
    "# O: I have lost my card 5199807081286740 and blocked by c4c4:9bac:38a3:886:f173:826c:d16d:e730 can't submit a replacement request. My name is Maisie Griffiths.\n",
    "# G: I have lost my card 1111111111111111 and blocked by 22222222222222222222222222222222222222 can't submit a replacement request. My name is 3333333333333333.\n",
    "# P: I have lost my card 51998070222222222222222222222222222222222222222222222222826c:d16d:e730 can't submit a replacement request. My name is Maisie 333333333.\n",
    "# wher 1 is type credit_card, 2 is type ip_address and 3 is type person, the rest of chars should be converted to 0 but here for illustration we won't borther\n",
    " and blocked by 22222222222222222222222222222222222222\n",
    "2222222222222222222222222222222222222222"
   ]
  },
  {
   "cell_type": "code",
   "execution_count": 11,
   "metadata": {},
   "outputs": [],
   "source": [
    "mapping = {\n",
    "    \"non_entity\": 0,\n",
    "    \"credit_card\": 1,\n",
    "    \"ip_address\": 2,\n",
    "    \"person\": 3,\n",
    "    \"LOCATION\": 6,\n",
    "    \"OTHER\": 6\n",
    "}\n",
    "\n",
    "mapping_pii = {\n",
    "    \"non_entity\": 0,\n",
    "    \"all_entities\": 1\n",
    "}\n",
    "\n",
    "pii_score \n",
    "entity_score \n",
    "ratio = entity_score / pii_score\n",
    "\n",
    "def build_multinomial(text, spans, mapping):\n",
    "    array = [0] * len(text)\n",
    "    \n",
    "    for span in spans:\n",
    "        s = span[\"start\"]\n",
    "        e = span[\"end\"]\n",
    "        class_name = mapping[span[\"type\"]]\n",
    "        array[s : e] = [class_name] * (e - s)\n",
    "    \n",
    "    return array"
   ]
  },
  {
   "cell_type": "code",
   "execution_count": 12,
   "metadata": {},
   "outputs": [],
   "source": [
    "true_multi = build_multinomial(origin_text, true_spans, mapping)\n",
    "pred_multi = build_multinomial(origin_text, pred_spans, mapping)"
   ]
  },
  {
   "cell_type": "code",
   "execution_count": 13,
   "metadata": {},
   "outputs": [],
   "source": [
    "type_precisions = []\n",
    "for pred_span in pred_spans:\n",
    "    pred_span_multi = build_multinomial(origin_text, [pred_span], mapping)\n",
    "    span_class = mapping[pred_span[\"type\"]]\n",
    "    # index 0 because the list contains only 1 element\n",
    "    precision = precision_score(true_multi, pred_span_multi, average=None, labels=[span_class])[0]\n",
    "    type_precisions.append(precision)\n",
    "    \n",
    "ave_type_precision = sum(type_precisions) / len(type_precisions)"
   ]
  },
  {
   "cell_type": "code",
   "execution_count": 14,
   "metadata": {},
   "outputs": [],
   "source": [
    "type_recalls = []\n",
    "for true_span in true_spans:\n",
    "    true_span_multi = build_multinomial(origin_text, [true_span], mapping)\n",
    "    span_class = mapping[true_span[\"type\"]]\n",
    "    # index 0 because the list contains only 1 element\n",
    "    recall = recall_score(true_span_multi, pred_multi, average=None, labels=[span_class])[0]\n",
    "    type_recalls.append(recall)\n",
    "    \n",
    "ave_type_recall = sum(type_recalls) / len(type_recalls)"
   ]
  },
  {
   "cell_type": "code",
   "execution_count": 16,
   "metadata": {},
   "outputs": [
    {
     "data": {
      "text/plain": [
       "'For type identification: ave-precision: 0.7500, ave-recall: 0.3980, f1: 0.5201'"
      ]
     },
     "execution_count": 16,
     "metadata": {},
     "output_type": "execute_result"
    }
   ],
   "source": [
    "type_f1 = (2 * ave_type_precision * ave_type_recall) / (ave_type_precision + ave_type_recall)\n",
    "\n",
    "f\"For type identification: ave-precision: {ave_type_precision:.4f}, ave-recall: {ave_type_recall:.4f}, f1: {type_f1:.4f}\""
   ]
  },
  {
   "cell_type": "markdown",
   "metadata": {},
   "source": [
    "## Performance of boundary detection and type identification for every entity"
   ]
  },
  {
   "cell_type": "code",
   "execution_count": 25,
   "metadata": {},
   "outputs": [
    {
     "data": {
      "text/plain": [
       "array([0.33333333, 1.        ])"
      ]
     },
     "execution_count": 25,
     "metadata": {},
     "output_type": "execute_result"
    }
   ],
   "source": [
    "# precisions\n",
    "boundary_precisions = np.array(boundary_precisions)\n",
    "type_precisions = np.array(type_precisions)\n",
    "\n",
    "entity_precisions = np.multiply(boundary_precisions, type_precisions)"
   ]
  },
  {
   "cell_type": "code",
   "execution_count": 33,
   "metadata": {},
   "outputs": [
    {
     "data": {
      "text/plain": [
       "[{'text': '81286740 and blocked by c4c4:9bac:38a3:886:f173:',\n",
       "  'start': 28,\n",
       "  'end': 76,\n",
       "  'type': 'ip_address',\n",
       "  'precison': 0,\n",
       "  'precision': 0.3333333333333333},\n",
       " {'text': 'Griffiths',\n",
       "  'start': 145,\n",
       "  'end': 154,\n",
       "  'type': 'person',\n",
       "  'precision': 1.0}]"
      ]
     },
     "execution_count": 33,
     "metadata": {},
     "output_type": "execute_result"
    }
   ],
   "source": [
    "# add precison scores\n",
    "for i, span in enumerate(pred_spans):\n",
    "    span.update({\"precision\": entity_precisions[i]})\n",
    "    \n",
    "pred_spans"
   ]
  },
  {
   "cell_type": "code",
   "execution_count": 34,
   "metadata": {},
   "outputs": [],
   "source": [
    "# recalls\n",
    "boundary_recalls = np.array(boundary_recalls)\n",
    "type_recalls = np.array(type_recalls)\n",
    "\n",
    "entity_recalls = np.multiply(boundary_recalls, type_recalls)"
   ]
  },
  {
   "cell_type": "code",
   "execution_count": 35,
   "metadata": {},
   "outputs": [
    {
     "data": {
      "text/plain": [
       "[{'text': '5199807081286740',\n",
       "  'start': 20,\n",
       "  'end': 36,\n",
       "  'type': 'credit_card',\n",
       "  'recall': 0.0},\n",
       " {'text': 'c4c4:9bac:38a3:886:f173:826c:d16d:e730',\n",
       "  'start': 52,\n",
       "  'end': 90,\n",
       "  'type': 'ip_address',\n",
       "  'recall': 0.39889196675900274},\n",
       " {'text': 'Maisie Griffiths',\n",
       "  'start': 138,\n",
       "  'end': 154,\n",
       "  'type': 'person',\n",
       "  'recall': 0.31640625}]"
      ]
     },
     "execution_count": 35,
     "metadata": {},
     "output_type": "execute_result"
    }
   ],
   "source": [
    "# add recall scores\n",
    "for i, span in enumerate(true_spans):\n",
    "    span.update({\"recall\": entity_recalls[i]})\n",
    "    \n",
    "true_spans"
   ]
  },
  {
   "cell_type": "code",
   "execution_count": 37,
   "metadata": {},
   "outputs": [
    {
     "data": {
      "text/plain": [
       "0.3631199016527797"
      ]
     },
     "execution_count": 37,
     "metadata": {},
     "output_type": "execute_result"
    }
   ],
   "source": [
    "# f1 on ip_address\n",
    "f1_ip_address = (2 * 0.3333 * 0.3988) / (0.3333 + 0.3988)\n",
    "f1_ip_address"
   ]
  },
  {
   "cell_type": "code",
   "execution_count": null,
   "metadata": {},
   "outputs": [],
   "source": []
  }
 ],
 "metadata": {
  "kernelspec": {
   "display_name": "Python 3",
   "language": "python",
   "name": "python3"
  },
  "language_info": {
   "codemirror_mode": {
    "name": "ipython",
    "version": 3
   },
   "file_extension": ".py",
   "mimetype": "text/x-python",
   "name": "python",
   "nbconvert_exporter": "python",
   "pygments_lexer": "ipython3",
   "version": "3.7.6"
  }
 },
 "nbformat": 4,
 "nbformat_minor": 4
}
